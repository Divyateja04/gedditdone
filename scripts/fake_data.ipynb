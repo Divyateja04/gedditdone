{
 "cells": [
  {
   "cell_type": "code",
   "execution_count": 1,
   "metadata": {},
   "outputs": [
    {
     "name": "stdout",
     "output_type": "stream",
     "text": [
      "Collecting pymongo\n",
      "  Downloading pymongo-4.6.3-cp310-cp310-manylinux_2_17_x86_64.manylinux2014_x86_64.whl.metadata (22 kB)\n",
      "Collecting dnspython<3.0.0,>=1.16.0 (from pymongo)\n",
      "  Downloading dnspython-2.6.1-py3-none-any.whl.metadata (5.8 kB)\n",
      "Downloading pymongo-4.6.3-cp310-cp310-manylinux_2_17_x86_64.manylinux2014_x86_64.whl (676 kB)\n",
      "\u001b[2K   \u001b[90m━━━━━━━━━━━━━━━━━━━━━━━━━━━━━━━━━━━━━━━━\u001b[0m \u001b[32m676.9/676.9 kB\u001b[0m \u001b[31m3.3 MB/s\u001b[0m eta \u001b[36m0:00:00\u001b[0ma \u001b[36m0:00:01\u001b[0mm\n",
      "\u001b[?25hDownloading dnspython-2.6.1-py3-none-any.whl (307 kB)\n",
      "\u001b[2K   \u001b[90m━━━━━━━━━━━━━━━━━━━━━━━━━━━━━━━━━━━━━━━━\u001b[0m \u001b[32m307.7/307.7 kB\u001b[0m \u001b[31m10.5 MB/s\u001b[0m eta \u001b[36m0:00:00\u001b[0m\n",
      "\u001b[?25hInstalling collected packages: dnspython, pymongo\n",
      "Successfully installed dnspython-2.6.1 pymongo-4.6.3\n",
      "Note: you may need to restart the kernel to use updated packages.\n"
     ]
    }
   ],
   "source": [
    "%pip install pymongo\n",
    "%pip install dotenv"
   ]
  },
  {
   "cell_type": "code",
   "execution_count": 33,
   "metadata": {},
   "outputs": [],
   "source": [
    "from pymongo import MongoClient\n",
    "from bson import ObjectId\n",
    "from random import choice, randint\n",
    "from faker import Faker\n",
    "from dotenv import load_dotenv\n",
    "import os"
   ]
  },
  {
   "cell_type": "code",
   "execution_count": 34,
   "metadata": {},
   "outputs": [
    {
     "data": {
      "text/plain": [
       "True"
      ]
     },
     "execution_count": 34,
     "metadata": {},
     "output_type": "execute_result"
    }
   ],
   "source": [
    "load_dotenv(dotenv_path='../backend/.env')"
   ]
  },
  {
   "cell_type": "code",
   "execution_count": 39,
   "metadata": {},
   "outputs": [],
   "source": [
    "client = MongoClient(os.getenv('DATABASE_URL'))"
   ]
  },
  {
   "cell_type": "code",
   "execution_count": 40,
   "metadata": {},
   "outputs": [],
   "source": [
    "db = client.geddit"
   ]
  },
  {
   "cell_type": "markdown",
   "metadata": {},
   "source": [
    "### Fake posts"
   ]
  },
  {
   "cell_type": "code",
   "execution_count": 41,
   "metadata": {},
   "outputs": [],
   "source": [
    "posts = db.Post"
   ]
  },
  {
   "cell_type": "code",
   "execution_count": 42,
   "metadata": {},
   "outputs": [
    {
     "data": {
      "text/plain": [
       "{'_id': ObjectId('660260b7b3050b013dab4fde'),\n",
       " 'authorId': ObjectId('6602603db3050b013dab4fdd'),\n",
       " 'costInPoints': 3,\n",
       " 'source': 'V335',\n",
       " 'destination': 'M101',\n",
       " 'service': 'hehehaha',\n",
       " 'status': 'completed'}"
      ]
     },
     "execution_count": 42,
     "metadata": {},
     "output_type": "execute_result"
    }
   ],
   "source": [
    "posts.find_one()"
   ]
  },
  {
   "cell_type": "code",
   "execution_count": 19,
   "metadata": {},
   "outputs": [],
   "source": [
    "sources_services = {\n",
    "    \"Academic Block\": [\"Photocopy\", \"Assignment\", \"Notes\", \"Book\"],\n",
    "    \"Yummpies\": [\"Maggi\", \"Noodles\", \"Pasta\", \"Burger\", \"Pizza\"],\n",
    "    \"WichPlease\": [\"Bombay Sandwich\", \"Veg Sandwich\", \"Cheese Sandwich\"],\n",
    "    \"CP Laundry\": [\"Laundry\"],\n",
    "    \"CP Stationary\": [\"Notebook\", \"Pen\", \"Pencil\", \"Eraser\", \"Sharpener\"],\n",
    "    \"CP Aggarwals\": [\"Apples\", \"Bananas\", \"Oranges\", \"Grapes\", \"Mangoes\"],\n",
    "    \"CP Medical\": [\"Crocin\", \"Paracetamol\", \"Cough Syrup\", \"Bandaid\"],\n",
    "    \"ANC 1\": [\"Dosa\", \"Pav Bhaji\", \"Poha\", \"Upma\", \"Noodles\"],\n",
    "    \"ANC 2\": [\"Dosa\", \"Pav Bhaji\", \"Poha\", \"Upma\", \"Noodles\"],\n",
    "    \"Thickshake Factory\": [\"Thickshake\", \"Ice Cream\", \"Lays\"],\n",
    "}\n",
    "\n",
    "for i in range(100):\n",
    "    source = choice(list(sources_services.keys()))\n",
    "    service = choice(sources_services[source])\n",
    "    posts.insert_one(\n",
    "        {\n",
    "            \"authorId\": choice(\n",
    "                [\n",
    "                    ObjectId(\"66026da829ef8e4ce76ad03b\"),  # Me\n",
    "                    ObjectId(\"6602603db3050b013dab4fdd\"),  # Divya\n",
    "                    ObjectId(\"6604570eaff42a43d70bfba2\"),  # Prachi\n",
    "                    ObjectId(\"660317e7a4f0beaa327b8dc5\"),  # Uday\n",
    "                    ObjectId(\"66112fa3174c484985cb0fbf\"),  # Manan\n",
    "                ]\n",
    "            ),\n",
    "            \"costInPoints\": choice(range(1, 4)),\n",
    "            \"source\": source,\n",
    "            \"destination\": choice(\n",
    "                [\n",
    "                    \"Vyas Bhavan\",\n",
    "                    \"Valmiki Bhavan\",\n",
    "                    \"Vishwakarma Bhavan\",\n",
    "                    \"Meera Bhavan\",\n",
    "                    \"Malviya Bhavan\",\n",
    "                ]\n",
    "            ),\n",
    "            \"service\": service,\n",
    "            \"status\": choice([\"open\", \"completed\", \"closed\"]),\n",
    "        }\n",
    "    )"
   ]
  },
  {
   "cell_type": "markdown",
   "metadata": {},
   "source": [
    "### Fake users"
   ]
  },
  {
   "cell_type": "code",
   "execution_count": 4,
   "metadata": {},
   "outputs": [],
   "source": [
    "users = db.User"
   ]
  },
  {
   "cell_type": "code",
   "execution_count": 7,
   "metadata": {},
   "outputs": [],
   "source": [
    "user_data = [\n",
    "    (\"f20210096\", \"Kumarasamy\"),\n",
    "    (\"f20211989\", \"Vashisth\"),\n",
    "    (\"f20202404\", \"Riddhima\"),\n",
    "    (\"f20210264\", \"Dharanikanth\"),\n",
    "    (\"f20212922\", \"Samskruthi\"),\n",
    "    (\"f20213110\", \"Ksheeteej\"),\n",
    "    (\"f20220141\", \"Aman\"),\n",
    "    (\"f20220184\", \"Aarsh\"),\n",
    "    (\"f20221109\", \"Abhilash Krishna\"),\n",
    "    (\"f20222013\", \"Eshaa\"),\n",
    "    (\"f20220786\", \"Saksham\"),\n",
    "    (\"f20220671\", \"Rohan\"),\n",
    "    (\"f20220885\", \"Namit\"),\n",
    "]"
   ]
  },
  {
   "cell_type": "code",
   "execution_count": 5,
   "metadata": {},
   "outputs": [
    {
     "data": {
      "text/plain": [
       "{'_id': ObjectId('6602603db3050b013dab4fdd'),\n",
       " 'name': 'Divyateja Pasupuleti',\n",
       " 'email': 'f20210075@hyderabad.bits-pilani.ac.in',\n",
       " 'phoneNumber': '9502833111',\n",
       " 'karmaPoints': 18,\n",
       " 'isPublic': True,\n",
       " 'role': 'admin'}"
      ]
     },
     "execution_count": 5,
     "metadata": {},
     "output_type": "execute_result"
    }
   ],
   "source": [
    "users.find_one()"
   ]
  },
  {
   "cell_type": "code",
   "execution_count": 27,
   "metadata": {},
   "outputs": [
    {
     "name": "stdout",
     "output_type": "stream",
     "text": [
      "Jeremy Reynolds\n",
      "jeremyreynolds@example.com\n",
      "2968544968408\n"
     ]
    }
   ],
   "source": [
    "faker = Faker()\n",
    "name = faker.name()\n",
    "print(name)\n",
    "email = (''.join(name.split())).lower() + choice(['', str(randint(10, 99))]) + \"@example.com\"\n",
    "print(email)\n",
    "print(faker.msisdn())"
   ]
  },
  {
   "cell_type": "code",
   "execution_count": 8,
   "metadata": {},
   "outputs": [],
   "source": [
    "for email_id, name in user_data:\n",
    "    users.insert_one(\n",
    "        {\n",
    "            \"name\": name,\n",
    "            \"email\": email_id + \"@hyderabad.bits-pilani.ac.in\",\n",
    "            'phoneNumber': '9999999999',\n",
    "            \"karmaPoints\": choice(range(2, 10)),\n",
    "            'isPublic': True,\n",
    "            'role': 'user'\n",
    "        }\n",
    "    )"
   ]
  },
  {
   "cell_type": "code",
   "execution_count": 28,
   "metadata": {},
   "outputs": [],
   "source": [
    "for _ in range(50):\n",
    "    name = faker.name()\n",
    "    email = (''.join(name.split())).lower() + choice(['', str(randint(10, 99))]) + \"@gmail.com\"\n",
    "\n",
    "    users.insert_one(\n",
    "        {\n",
    "            \"name\": name,\n",
    "            \"email\": email,\n",
    "            'phoneNumber': faker.msisdn(),\n",
    "            \"karmaPoints\": choice(range(10, 50)),\n",
    "            'isPublic': True,\n",
    "            'role': choice(['user', 'banned'])\n",
    "        }\n",
    "    )"
   ]
  }
 ],
 "metadata": {
  "kernelspec": {
   "display_name": "Python 3",
   "language": "python",
   "name": "python3"
  },
  "language_info": {
   "codemirror_mode": {
    "name": "ipython",
    "version": 3
   },
   "file_extension": ".py",
   "mimetype": "text/x-python",
   "name": "python",
   "nbconvert_exporter": "python",
   "pygments_lexer": "ipython3",
   "version": "3.10.12"
  }
 },
 "nbformat": 4,
 "nbformat_minor": 2
}
